{
 "cells": [
  {
   "cell_type": "markdown",
   "metadata": {},
   "source": [
    "# Bestimmen der zu bestimmenden Größen, die bestimmt bestimmt werden sollen"
   ]
  },
  {
   "cell_type": "code",
   "execution_count": 1,
   "metadata": {
    "ExecuteTime": {
     "end_time": "2023-06-23T13:33:34.512903378Z",
     "start_time": "2023-06-23T13:33:33.674515412Z"
    }
   },
   "outputs": [],
   "source": [
    "import numpy as np\n",
    "import matplotlib.pyplot as plt\n",
    "import pandas as pd\n",
    "from glob import iglob"
   ]
  },
  {
   "cell_type": "markdown",
   "metadata": {},
   "source": [
    "## Einlesen der Daten"
   ]
  },
  {
   "cell_type": "code",
   "execution_count": 2,
   "metadata": {
    "ExecuteTime": {
     "end_time": "2023-06-23T13:33:34.526437446Z",
     "start_time": "2023-06-23T13:33:34.514518168Z"
    }
   },
   "outputs": [],
   "source": [
    "flist = iglob('../Daten/fit/*_params.txt')\n",
    "df_dict = {}\n",
    "for f in flist:\n",
    "    df = pd.read_csv(f, sep='\\t', index_col=0)\n",
    "    df_dict[f[13:-11].replace(\"_\", \" \")] = df[~df.index.str.contains('A')]"
   ]
  },
  {
   "cell_type": "markdown",
   "metadata": {},
   "source": [
    "## Energie aus Geschwindigkeit"
   ]
  },
  {
   "cell_type": "code",
   "execution_count": 3,
   "metadata": {
    "ExecuteTime": {
     "end_time": "2023-06-23T13:33:34.531303539Z",
     "start_time": "2023-06-23T13:33:34.529202984Z"
    },
    "collapsed": false,
    "jupyter": {
     "outputs_hidden": false
    }
   },
   "outputs": [],
   "source": [
    "def v_to_dE(v):\n",
    "    \"\"\"\n",
    "    Energie aus Geschwindigkeit\n",
    "    Args:\n",
    "        v: Geschwindigkeit in mm/s\n",
    "    Returns:\n",
    "        Energie in eV\n",
    "    \"\"\"\n",
    "    c = 299792458 # m/s\n",
    "    E = 14.4e3 # eV\n",
    "    v = v * 1e-3 # m/s\n",
    "    return (v/c) * E"
   ]
  },
  {
   "cell_type": "markdown",
   "metadata": {},
   "source": [
    "## Isomerieverschiebung"
   ]
  },
  {
   "cell_type": "code",
   "execution_count": 4,
   "metadata": {
    "ExecuteTime": {
     "end_time": "2023-06-23T13:33:34.552079020Z",
     "start_time": "2023-06-23T13:33:34.537192705Z"
    }
   },
   "outputs": [
    {
     "name": "stdout",
     "output_type": "stream",
     "text": [
      "Isomerieverschiebung\n",
      "FePO4            0.28533 mm/s     1.37052e-08 eV\n",
      "FeSO4            1.15168 mm/s     5.53189e-08 eV\n",
      "Natural Iron    -0.11298 mm/s    -5.42678e-09 eV\n",
      "Vacromium       -0.17793 mm/s    -8.54665e-09 eV\n"
     ]
    }
   ],
   "source": [
    "iso_dict = {}\n",
    "print(\"Isomerieverschiebung\")\n",
    "for key, df in df_dict.items():\n",
    "    iso_dict[key] = df[\"Value\"][df.index.str.contains('p')].mean()\n",
    "    print(f\"{key:15} {iso_dict[key]:8.5f} mm/s {v_to_dE(iso_dict[key]):15.5e} eV\")"
   ]
  },
  {
   "cell_type": "markdown",
   "metadata": {},
   "source": [
    "## Lebensdauer Vacromium\n",
    "Jetzt stimmt das hoffentlich"
   ]
  },
  {
   "cell_type": "code",
   "execution_count": 5,
   "metadata": {
    "ExecuteTime": {
     "end_time": "2023-06-23T13:33:34.609391862Z",
     "start_time": "2023-06-23T13:33:34.545903075Z"
    }
   },
   "outputs": [
    {
     "name": "stdout",
     "output_type": "stream",
     "text": [
      "Lebensdauer Vacromium: 6.07e-08 +- 2.50e-09 s\n"
     ]
    }
   ],
   "source": [
    "gamma = v_to_dE(df_dict[\"Vacromium\"][\"Value\"][\"g1\"]/2) # /2 weil halbwertsbreite in Spektrum doppelt so hoch wie in moessbauer\n",
    "gamma_err = v_to_dE(df_dict[\"Vacromium\"][\"Error\"][\"g1\"]/2) # E ist linear in v\n",
    "hbar = 6.582119569e-16 # eV*s\n",
    "tau = hbar/gamma\n",
    "tau_err = hbar/gamma**2 * gamma_err # Fehlerfortpflanzung a la Gauss\n",
    "print(f\"Lebensdauer Vacromium: {tau:.2e} +- {tau_err:.2e} s\")"
   ]
  },
  {
   "cell_type": "markdown",
   "metadata": {},
   "source": [
    "## Bestimmung des inneren Magnetfelds und des magnetischen Moments μa des angeregten Zustandes von Eisen\n",
    "\n",
    "Energiekorrekturen durch Hyperfeinstruktur\n",
    "$$\\Delta E_m = -(\\vec{\\mu} \\cdot \\vec{B}) = - \\frac{m}{I} \\mu B$$\n",
    "\n",
    "### 1. Isomerieshift korrigieren\n",
    "\n",
    "Im blauen Buch sind $v^*$ die gemessenen Geschwindigkeiten und $v$ die um den Isomerieshift korrigierten Geschwindigkeiten.\n",
    "$$v_1 > v_2 > v_3 > 0$$\n",
    "Je zwei Werte für $v_i$, über die gemittelt wird."
   ]
  },
  {
   "cell_type": "code",
   "execution_count": 12,
   "metadata": {
    "ExecuteTime": {
     "end_time": "2023-06-23T13:37:47.084783689Z",
     "start_time": "2023-06-23T13:37:47.043362243Z"
    },
    "collapsed": false,
    "jupyter": {
     "outputs_hidden": false
    }
   },
   "outputs": [],
   "source": [
    "#  TODO: Ungenauigkeit fortpflanzen\n",
    "\n",
    "p_HFS = df_dict[\"Natural Iron\"][\"Value\"][df_dict[\"Natural Iron\"].index.str.contains('p')] - iso_dict[\"Natural Iron\"]\n",
    "p_HFS = np.abs(p_HFS)\n",
    "\n",
    "p_err_HFS = df_dict[\"Natural Iron\"][\"Error\"][df_dict[\"Natural Iron\"].index.str.contains('p')]\n",
    "\n",
    "v1, v2, v3 = [(p_HFS[2*i] + p_HFS[2*i+1])/2 for i in range(int(len(p_HFS)/2))]\n",
    "\n",
    "v1 = v1 * 1e-3 # mm/s -> m/s\n",
    "v2 = v2 * 1e-3\n",
    "v3 = v3 * 1e-3\n",
    "\n",
    "v1_err = v1 * np.sqrt((p_err_HFS[0]/p_HFS[0])**2 + (p_err_HFS[1]/p_HFS[1])**2)\n",
    "v2_err = v2 * np.sqrt((p_err_HFS[2]/p_HFS[2])**2 + (p_err_HFS[3]/p_HFS[3])**2)\n",
    "v3_err = v3 * np.sqrt((p_err_HFS[4]/p_HFS[4])**2 + (p_err_HFS[5]/p_HFS[5])**2)"
   ]
  },
  {
   "cell_type": "markdown",
   "metadata": {},
   "source": [
    "### 2. Welcher Fall aus dem blauen Buch?"
   ]
  },
  {
   "cell_type": "code",
   "execution_count": 7,
   "metadata": {
    "ExecuteTime": {
     "end_time": "2023-06-23T13:33:34.610217346Z",
     "start_time": "2023-06-23T13:33:34.588362428Z"
    },
    "collapsed": false,
    "jupyter": {
     "outputs_hidden": false
    }
   },
   "outputs": [
    {
     "name": "stdout",
     "output_type": "stream",
     "text": [
      "2. Fall: A > 0, G < 0, |A| < |G|\n"
     ]
    }
   ],
   "source": [
    "THRS = 1e-4 # Schwellwert für Gleichheit\n",
    "if np.abs(v1 - 2*v2 - v3) < THRS:\n",
    "    print(\"1. Fall: A > 0, G < 0, |A| > |G|\")\n",
    "if np.abs(v1 - 2*v2 + v3) < THRS:\n",
    "    print(\"2. Fall: A > 0, G < 0, |A| < |G|\")\n",
    "if np.abs(v1 - v2 - 2*v3) < THRS:\n",
    "    print(\"3. Fall: A < 0, G < 0, |A| > |G|\")\n",
    "if np.abs(-v1 + v2 + 2*v3) < THRS:\n",
    "    print(\"4. Fall: A < 0, G < 0, |G/3| < |A| < |G|\")"
   ]
  },
  {
   "cell_type": "markdown",
   "metadata": {},
   "source": [
    "### 3. $A$,  $G$ und daraus $\\mu_\\text{a}$, $\\mu_\\text{g}$ und $B$ bestimmen\n",
    "\n",
    "$$ \\mu_\\text{a} \\cdot B = \\frac{A \\cdot I_\\text{a} \\cdot E_0}{c} \\text{ and } \\mu_\\text{g} \\cdot B = \\frac{G \\cdot I_\\text{g} \\cdot E_0}{c}$$\n",
    "$$ \\mu_\\text{a} = \\frac{A \\cdot I_\\text{a} \\cdot \\mu_\\text{g}}{G \\cdot I_\\text{g}} \\text{ and } B = \\frac{G \\cdot I_\\text{g} \\cdot E_0}{c \\cdot \\mu_\\text{g}}$$"
   ]
  },
  {
   "cell_type": "code",
   "execution_count": 13,
   "metadata": {
    "ExecuteTime": {
     "end_time": "2023-06-23T13:40:14.711815400Z",
     "start_time": "2023-06-23T13:40:14.667281090Z"
    },
    "collapsed": false,
    "jupyter": {
     "outputs_hidden": false
    }
   },
   "outputs": [
    {
     "name": "stdout",
     "output_type": "stream",
     "text": [
      "μ_a = -1.52e-01 +- -2.15e-03 mu_K\n",
      "B = -1.05e-06 +- -1.19e-08 T\n"
     ]
    }
   ],
   "source": [
    "# Fall 2:\n",
    "A = v1 - v2\n",
    "A_err = np.sqrt(v1_err**2 + v2_err**2)\n",
    "G = -v2 - v3\n",
    "G_err = np.sqrt(v2_err**2 + v3_err**2)\n",
    "\n",
    "Ia = 3/2\n",
    "Ig = 1/2\n",
    "c = 299792458 # m/s\n",
    "E0 = 14.4e3 # eV\n",
    "mug = 0.0903 # mu_K\n",
    "mug_err = 0.0007 # mu_K\n",
    "\n",
    "mua = A * Ia * mug / (G * Ig)\n",
    "mua_err = mua * np.sqrt((A_err/A)**2 + (G_err/G)**2 + (mug_err/mug)**2)\n",
    "\n",
    "B = G * Ig * E0 / (c * mug)\n",
    "B_err = B * np.sqrt((G_err/G)**2 + (mug_err/mug)**2)\n",
    "\n",
    "print(f\"μ_a = {mua:.2e} +- {mua_err:.2e} mu_K\")\n",
    "print(f\"B = {B:.2e} +- {B_err:.2e} T\")"
   ]
  },
  {
   "cell_type": "markdown",
   "metadata": {},
   "source": [
    "## Bestimmung des elektrischen Feldgradienten des Kristallfelds von Eisenverbindungen\n",
    "\n",
    "$$v_\\text{Q} = v_\\text{Q}(\\pm 3/2) - v_\\text{Q}(\\pm 1/2) = \\frac{e \\cdot Q}{2} \\cdot \\frac{\\partial^2 V}{\\partial z^2} \\cdot \\frac{c}{E_0}$$\n",
    "$$\\frac{\\partial^2 V}{\\partial z^2} = \\frac{2 \\cdot E_0 \\cdot v_\\text{Q}}{e \\cdot Q \\cdot c}$$"
   ]
  },
  {
   "cell_type": "code",
   "execution_count": 9,
   "metadata": {
    "ExecuteTime": {
     "end_time": "2023-06-23T13:33:34.610832392Z",
     "start_time": "2023-06-23T13:33:34.588963993Z"
    },
    "collapsed": false,
    "jupyter": {
     "outputs_hidden": false
    }
   },
   "outputs": [
    {
     "name": "stdout",
     "output_type": "stream",
     "text": [
      "FePO4 2.271287513353445e+43\n",
      "FeSO4 7.873824847831929e+43\n"
     ]
    }
   ],
   "source": [
    "Q = 0.21e-28 # m^2\n",
    "e = 1.6e-19 # C\n",
    "\n",
    "names = [\"FePO4\", \"FeSO4\"]\n",
    "\n",
    "pQ = [df_dict[k][\"Value\"][df_dict[k].index.str.contains('p')] for k in names]\n",
    "\n",
    "vQ = [pQ[i][\"p1\"] - pQ[i][\"p2\"] for i in range(2)]\n",
    "vQ = np.abs(vQ)\n",
    "\n",
    "dVdz2 = 2 * E0 * vQ /e /Q /c\n",
    "\n",
    "for i in range(len(dVdz2)):\n",
    "    print(names[i], dVdz2[i])"
   ]
  },
  {
   "cell_type": "code",
   "execution_count": 10,
   "metadata": {
    "ExecuteTime": {
     "end_time": "2023-06-23T13:33:34.680325377Z",
     "start_time": "2023-06-23T13:33:34.589256918Z"
    },
    "collapsed": false,
    "jupyter": {
     "outputs_hidden": false
    }
   },
   "outputs": [
    {
     "data": {
      "text/plain": [
       "array([0.79440068, 2.75393219])"
      ]
     },
     "execution_count": 10,
     "metadata": {},
     "output_type": "execute_result"
    }
   ],
   "source": [
    "vQ"
   ]
  }
 ],
 "metadata": {
  "kernelspec": {
   "display_name": "Python 3 (ipykernel)",
   "language": "python",
   "name": "python3"
  },
  "language_info": {
   "codemirror_mode": {
    "name": "ipython",
    "version": 3
   },
   "file_extension": ".py",
   "mimetype": "text/x-python",
   "name": "python",
   "nbconvert_exporter": "python",
   "pygments_lexer": "ipython3",
   "version": "3.9.13"
  }
 },
 "nbformat": 4,
 "nbformat_minor": 4
}
